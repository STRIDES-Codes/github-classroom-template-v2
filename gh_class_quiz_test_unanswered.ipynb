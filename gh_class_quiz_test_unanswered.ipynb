{
 "cells": [
  {
   "cell_type": "code",
   "execution_count": null,
   "id": "bd1e8fe0-2b2d-4ff1-9fec-62db8cf3214d",
   "metadata": {},
   "outputs": [],
   "source": [
    "#install quiz package\n",
    "!pip install jupyterquiz"
   ]
  },
  {
   "cell_type": "code",
   "execution_count": null,
   "id": "539fd29e-3d09-4bd9-a73f-7d0ede018f9c",
   "metadata": {
    "tags": []
   },
   "outputs": [],
   "source": [
    "#import required libraries to run quizzes\n",
    "import json\n",
    "from jupyterquiz import display_quiz\n",
    "from drop_down_quizzes.quiz_module import run_quiz"
   ]
  },
  {
   "cell_type": "code",
   "execution_count": null,
   "id": "27795c21-001e-400f-9832-e342175725b4",
   "metadata": {
    "tags": []
   },
   "outputs": [],
   "source": [
    "#Assessment Q1\n",
    "display_quiz(\"mc_quiz.json\")"
   ]
  },
  {
   "cell_type": "code",
   "execution_count": null,
   "id": "72909667-a7c4-4aa1-a80e-238c9e0240eb",
   "metadata": {
    "tags": []
   },
   "outputs": [],
   "source": [
    "#Provide string values for all correct answers to Q1 formatted as a list defined as variable a1:\n",
    "a1 = []"
   ]
  },
  {
   "cell_type": "code",
   "execution_count": null,
   "id": "05c5cca3-83de-4bb0-a51b-83e7e2bcefcb",
   "metadata": {
    "tags": []
   },
   "outputs": [],
   "source": [
    "#Assessment Q2\n",
    "display_quiz(\"sc_quiz.json\")"
   ]
  },
  {
   "cell_type": "code",
   "execution_count": null,
   "id": "bafc43f9-1710-4b7c-93db-bda86d43ee1a",
   "metadata": {},
   "outputs": [],
   "source": [
    "#Provide string value for correct answer to Q2 defined as variable a2:\n",
    "a2 = ''"
   ]
  },
  {
   "cell_type": "code",
   "execution_count": null,
   "id": "eae6a3a8-1be0-4383-83b3-ad414c9e69a2",
   "metadata": {
    "tags": []
   },
   "outputs": [],
   "source": [
    "#Assessment Q3\n",
    "display_quiz(\"num_quiz.json\")"
   ]
  },
  {
   "cell_type": "code",
   "execution_count": null,
   "id": "1bb268f1-39cb-4878-8f9c-24cbc1265d41",
   "metadata": {},
   "outputs": [],
   "source": [
    "#Provide integer value for correct answer to Q3 defined as variable a3:\n",
    "a3 = ''"
   ]
  },
  {
   "cell_type": "code",
   "execution_count": null,
   "id": "e93b12c4-456b-474c-9f80-4f24e8dedd42",
   "metadata": {
    "tags": []
   },
   "outputs": [],
   "source": [
    "#Assessment Q4\n",
    "run_quiz(import_type=\"json\", import_path=\"dropdown_quiz.json\", instant_feedback=False, shuffle_questions=False, shuffle_answers=True)"
   ]
  },
  {
   "cell_type": "code",
   "execution_count": null,
   "id": "aa8a4c65-85be-4935-b289-92aa7b383059",
   "metadata": {},
   "outputs": [],
   "source": [
    "#Provide string values for all correct answers to Q4 corresponding to the matching variable:\n",
    "flight = ''\n",
    "spidey_sense = ''\n",
    "defeats_all = ''"
   ]
  }
 ],
 "metadata": {
  "kernelspec": {
   "display_name": "conda_python3",
   "language": "python",
   "name": "conda_python3"
  },
  "language_info": {
   "codemirror_mode": {
    "name": "ipython",
    "version": 3
   },
   "file_extension": ".py",
   "mimetype": "text/x-python",
   "name": "python",
   "nbconvert_exporter": "python",
   "pygments_lexer": "ipython3",
   "version": "3.10.15"
  }
 },
 "nbformat": 4,
 "nbformat_minor": 5
}
